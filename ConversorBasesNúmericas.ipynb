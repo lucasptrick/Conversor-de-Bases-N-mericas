{
  "nbformat": 4,
  "nbformat_minor": 0,
  "metadata": {
    "colab": {
      "provenance": []
    },
    "kernelspec": {
      "name": "python3",
      "display_name": "Python 3"
    },
    "language_info": {
      "name": "python"
    }
  },
  "cells": [
    {
      "cell_type": "markdown",
      "source": [
        "# **Calculadora de Bases**\n",
        "\n",
        "> *Neste projeto temos uma calculadora que converter números de bases númericas e a converte para outras, entre as bases: Binária, Octal, Decimal e Hexadecimal.*"
      ],
      "metadata": {
        "id": "Axs0BjNtKI0A"
      }
    },
    {
      "cell_type": "code",
      "source": [
        "#Função de conversão Decimal p/ Binário:\n",
        "def conversorDec2Bin(dec,baseAtual=10,baseDesejada=2):\n",
        "  if isinstance(dec,str):\n",
        "    dec=int(dec,baseAtual)\n",
        "  result=[]\n",
        "  while dec>0:\n",
        "    result.append(str(dec%baseDesejada))\n",
        "    dec//=baseDesejada\n",
        "  return ''.join(result[::-1])  #'O valor digitado convertido em binário é: '+''.join(result[::-1])"
      ],
      "metadata": {
        "id": "d1I35ytKKrVC"
      },
      "execution_count": null,
      "outputs": []
    },
    {
      "cell_type": "code",
      "source": [
        "#Função de conversão Binário p/ Decimal:\n",
        "def conversorBin2Dec(bin):\n",
        "  potencia=0\n",
        "  decimal=0\n",
        "  for elemento in reversed(str(bin)):\n",
        "    decimal+=int(elemento)*(2**potencia)\n",
        "    potencia+=1\n",
        "  return decimal  #f'O valor digitado convertido em decimal é: {decimal}'"
      ],
      "metadata": {
        "id": "S6g8BOwCKrrP"
      },
      "execution_count": null,
      "outputs": []
    },
    {
      "cell_type": "code",
      "source": [
        "#Função de conversão Decimal p/ Hexadecimal:\n",
        "def conversorDec2Hex(dec,baseAtual=10,baseDesejada=16):\n",
        "  if isinstance(dec,str):\n",
        "    dec=int(dec,baseAtual)\n",
        "  result=[]\n",
        "  while dec>0:\n",
        "    resto=dec%baseDesejada\n",
        "    if resto>9:\n",
        "       result.append(chr(resto - 10 + ord('A')))\n",
        "    elif resto>10:\n",
        "       result.append(chr(resto - 11 + ord('B')))\n",
        "    elif resto>11:\n",
        "       result.append(chr(resto - 12 + ord('C')))\n",
        "    elif resto>12:\n",
        "       result.append(chr(resto - 13 + ord('D')))\n",
        "    elif resto>13:\n",
        "       result.append(chr(resto - 14 + ord('E')))\n",
        "    elif resto>15:\n",
        "       result.append(chr(resto - 15 + ord('F')))\n",
        "    else:\n",
        "      result.append(str(resto))\n",
        "    dec//=baseDesejada\n",
        "  return  ''.join(result[::-1]) #'O valor digitado convertido em hexadecimal é: ' + ''.join(result[::-1])"
      ],
      "metadata": {
        "id": "gmlbs6U1KrzB"
      },
      "execution_count": null,
      "outputs": []
    },
    {
      "cell_type": "code",
      "source": [
        "#Função de conversão Hexadecimal p/ Decimal:\n",
        "def conversorHex2Dec(hex):\n",
        "  a,b,c,d,e,f=10,11,12,13,14,15\n",
        "  hexadecimal=0\n",
        "  potencia=0\n",
        "  for elemento in reversed(hex):\n",
        "    if(elemento.isdigit()):\n",
        "        hexadecimal+=int(elemento)*(16**potencia)\n",
        "        potencia+=1\n",
        "    elif(elemento.lower()=='a'):\n",
        "        hexadecimal+=a*(16**potencia)\n",
        "        potencia+=1\n",
        "    elif(elemento.lower()=='b'):\n",
        "        hexadecimal+=b*(16**potencia)\n",
        "        potencia+=1\n",
        "    elif(elemento.lower()=='c'):\n",
        "        hexadecimal+=c*(16**potencia)\n",
        "        potencia+=1\n",
        "    elif(elemento.lower()=='d'):\n",
        "        hexadecimal+=d*(16**potencia)\n",
        "        potencia+=1\n",
        "    elif(elemento.lower()=='e'):\n",
        "        hexadecimal+=e*(16**potencia)\n",
        "        potencia+=1\n",
        "    elif(elemento.lower()=='f'):\n",
        "        hexadecimal+=f*(16**potencia)\n",
        "        potencia+=1\n",
        "    else:\n",
        "       print('Número digitado é inválido!')\n",
        "  return hexadecimal  #f'O valor digitado convertido em decimal é: {hexadecimal}'"
      ],
      "metadata": {
        "id": "0KLi0nfQKr53"
      },
      "execution_count": null,
      "outputs": []
    },
    {
      "cell_type": "code",
      "source": [
        "#Função de conversão Decimal p/ Octal:\n",
        "def conversorDec2Oct(dec,baseAtual=10,baseDesejada=8):\n",
        "  if isinstance(dec,str):\n",
        "    dec=int(dec,baseAtual)\n",
        "  result=[]\n",
        "  while dec>0:\n",
        "    result.append(str(dec%baseDesejada))\n",
        "    dec//=baseDesejada\n",
        "  return ''.join(result[::-1])  #'O valor digitado convertido em octal é: '+''.join(result[::-1])"
      ],
      "metadata": {
        "id": "4Z0MX9M7KsDf"
      },
      "execution_count": null,
      "outputs": []
    },
    {
      "cell_type": "code",
      "source": [
        "#Função de conversão Octal p/ Decimal:\n",
        "def conversorOct2Dec(oct):\n",
        "  potencia=0\n",
        "  decimal=0\n",
        "  for elemento in reversed(str(oct)):\n",
        "    decimal+=int(elemento)*(8**potencia)\n",
        "    potencia+=1\n",
        "  return decimal  #f'O valor digitado convertido em decimal é: {decimal}'"
      ],
      "metadata": {
        "id": "APrZUBJxKsKY"
      },
      "execution_count": null,
      "outputs": []
    },
    {
      "cell_type": "code",
      "execution_count": null,
      "metadata": {
        "id": "hUf8_16YJ5mt"
      },
      "outputs": [],
      "source": [
        "#Bloco de interação com usuário:\n",
        "base = int(input(\" 1.BINÁRIO\\n 2.OCTAL\\n 3.DECIMAL\\n 4.HEXADECIMAL\\n⤷ Escolha uma das bases acima: \"))\n",
        "match base:\n",
        "   case 1:\n",
        "      val = int(input(\"Digite o número binário: \"))\n",
        "      opção = int(input(\" 1.Binário ➜ Octal\\n 2.Binário ➜ Decimal\\n 3.Binário ➜ Hexadecimal\\n⤷ Escolha uma opção de conversão: \"))\n",
        "      if(opção==1):\n",
        "         print(conversorDec2Oct(conversorBin2Dec(val)))\n",
        "      elif(opção==2):\n",
        "         print(conversorBin2Dec(val))\n",
        "      elif(opção==3):\n",
        "         print(conversorDec2Hex(conversorBin2Dec(val)))\n",
        "\n",
        "   case 2:\n",
        "      val = int(input(\"Digite o número octal: \"))\n",
        "      opção = int(input(\" 1.Octal ➜ Binário\\n 2.Octal ➜ Decimal\\n 3.Octal ➜ Hexadecimal\\n⤷ Escolha uma opção de conversão: \"))\n",
        "      if(opção==1):\n",
        "         print(conversorDec2Bin(conversorOct2Dec(val)))\n",
        "      elif(opção==2):\n",
        "         print(conversorOct2Dec(val))\n",
        "      elif(opção==3):\n",
        "         print(conversorDec2Hex(conversorOct2Dec(val)))\n",
        "\n",
        "   case 3:\n",
        "      val = int(input(\"Digite o número decimal: \"))\n",
        "      opção = int(input(\" 1.Decimal ➜ Binário\\n 2.Decimal ➜ Octal\\n 3.Decimal ➜ Hexadecimal\\n⤷ Escolha uma opção de conversão: \"))\n",
        "      if(opção==1):\n",
        "         print(conversorDec2Bin(val))\n",
        "      elif(opção==2):\n",
        "         print(conversorDec2Oct(val))\n",
        "      elif(opção==3):\n",
        "         print(conversorDec2Hex(val))\n",
        "\n",
        "   case 4:\n",
        "      val = int(input(\"Digite o número hexadecimal: \"))\n",
        "      opção = int(input(\" 1.Hexadecimal ➜ Binário\\n 2.Hexadecimal ➜ Octal\\n 3.Hexadecimal ➜ Decimal\\n⤷ Escolha uma opção de conversão: \"))\n",
        "      if(opção==1):\n",
        "         print(conversorDec2Bin(conversorHex2Dec(val)))\n",
        "      elif(opção==2):\n",
        "         print(conversorDec2Oct(conversorHex2Dec(val)))\n",
        "      elif(opção==3):\n",
        "         print(conversorHex2Dec(val))\n",
        "   case _:\n",
        "      print(\"Digite uma opção válida!\")"
      ]
    }
  ]
}